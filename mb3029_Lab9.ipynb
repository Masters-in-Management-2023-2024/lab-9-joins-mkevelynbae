{
  "cells": [
    {
      "cell_type": "markdown",
      "metadata": {
        "id": "gs_wOGI5yU1w"
      },
      "source": [
        "# OPAN5510 Lab Assignment - Joins\n",
        "\n",
        "This lab focuses on using Polars to perform data joins and aggregations to answer business questions."
      ]
    },
    {
      "cell_type": "markdown",
      "metadata": {
        "id": "1RC5vZJsyU1x"
      },
      "source": [
        "# Bike Trips Dataset\n",
        "\n",
        "## Prerequisites\n",
        "\n",
        "For this assignment, you'll need to use Polars for data manipulation.\n",
        "\n",
        "*Insert a code block to import necessary packages (polars)*"
      ]
    },
    {
      "cell_type": "code",
      "execution_count": null,
      "metadata": {
        "id": "U6sEu6oqyU1x",
        "colab": {
          "base_uri": "https://localhost:8080/"
        },
        "outputId": "91252a4c-bcba-49d5-befb-2eedf107ce48"
      },
      "outputs": [
        {
          "output_type": "stream",
          "name": "stdout",
          "text": [
            "Loading diamonds dataset...\n",
            "Dataset loaded successfully!\n"
          ]
        }
      ],
      "source": [
        "# Import necessary packages\n",
        "import polars as pl\n",
        "\n",
        "# Load the diamonds dataset\n",
        "print(\"Loading diamonds dataset...\")\n",
        "df = pl.read_csv('https://raw.githubusercontent.com/pycaret/pycaret/master/datasets/diamond.csv')\n",
        "print(\"Dataset loaded successfully!\")"
      ]
    },
    {
      "cell_type": "markdown",
      "metadata": {
        "id": "BcAhQENByU1x"
      },
      "source": [
        "## Load Datasets\n",
        "\n",
        "Load the `bike_trips.csv` and `bike_weather.csv` files into Polars DataFrames called `trips` and `weather`, respectively.\n",
        "\n",
        "*Insert code block that reads these files into Polars DataFrames*"
      ]
    },
    {
      "cell_type": "code",
      "execution_count": null,
      "metadata": {
        "colab": {
          "base_uri": "https://localhost:8080/"
        },
        "id": "O1NJ_d1SyU1x",
        "outputId": "53dfb11f-1402-42f2-ae5b-81d88f935c54"
      },
      "outputs": [
        {
          "output_type": "stream",
          "name": "stdout",
          "text": [
            "78704\n",
            "733\n"
          ]
        }
      ],
      "source": [
        "# Load the bike trips and weather data\n",
        "trips = pl.read_csv(\"https://raw.githubusercontent.com/philhetzel/opan5510-class9/refs/heads/main/data/bike_trips.csv\", null_values='NA')\n",
        "weather = pl.read_csv(\"https://raw.githubusercontent.com/philhetzel/opan5510-class9/refs/heads/main/data/bike_weather.csv\", null_values=['NA',''])\n",
        "\n",
        "trips = trips.with_columns(pl.col(\"date\").str.strptime(pl.Date, \"%Y-%m-%d\").alias(\"date\")) # ensure date column is typed correctly\n",
        "weather = weather.with_columns(pl.col(\"date\").str.strptime(pl.Date, \"%Y-%m-%d\").alias(\"date\")) # ensure date column is typed correctly\n",
        "print(trips.height)\n",
        "print(weather.height)"
      ]
    },
    {
      "cell_type": "markdown",
      "metadata": {
        "id": "R04JtG9EyU1x"
      },
      "source": [
        "## Business Question 1: What was the average `duration` of trips that occurred in rainy weather?\n",
        "\n",
        "#### Part A: Join the trips and weather data frames\n",
        "\n",
        "The `trips` data represent every ride taken for a bike share company. The `weather` data represent the prevailing weather for a particular day. Join the `trips` and `weather` data together using the `date` column. Name the resulting DataFrame `trips_weather`.\n",
        "\n",
        "*Insert a code block below that joins `trips` to `weather` using the `date` column.*"
      ]
    },
    {
      "cell_type": "code",
      "execution_count": null,
      "metadata": {
        "id": "LMuv46gAyU1y",
        "colab": {
          "base_uri": "https://localhost:8080/"
        },
        "outputId": "f3b85270-9b85-48a5-acd6-5a490de021d4"
      },
      "outputs": [
        {
          "output_type": "stream",
          "name": "stdout",
          "text": [
            "78704\n",
            "['id', 'duration', 'start_date', 'start_station_name', 'start_station_id', 'end_date', 'end_station_name', 'end_station_id', 'bike_id', 'subscription_type', 'zip_code', 'date', 'max_temperature_f', 'mean_temperature_f', 'min_temperature_f', 'max_dew_point_f', 'mean_dew_point_f', 'min_dew_point_f', 'max_humidity', 'mean_humidity', 'min_humidity', 'max_sea_level_pressure_inches', 'mean_sea_level_pressure_inches', 'min_sea_level_pressure_inches', 'max_visibility_miles', 'mean_visibility_miles', 'min_visibility_miles', 'max_wind_Speed_mph', 'mean_wind_speed_mph', 'max_gust_speed_mph', 'precipitation_inches', 'cloud_cover', 'events', 'wind_dir_degrees', 'zip_code_right']\n",
            "shape: (5, 35)\n",
            "┌──────┬──────────┬─────────────┬─────────────┬───┬─────────────┬────────┬────────────┬────────────┐\n",
            "│ id   ┆ duration ┆ start_date  ┆ start_stati ┆ … ┆ cloud_cover ┆ events ┆ wind_dir_d ┆ zip_code_r │\n",
            "│ ---  ┆ ---      ┆ ---         ┆ on_name     ┆   ┆ ---         ┆ ---    ┆ egrees     ┆ ight       │\n",
            "│ i64  ┆ i64      ┆ str         ┆ ---         ┆   ┆ i64         ┆ str    ┆ ---        ┆ ---        │\n",
            "│      ┆          ┆             ┆ str         ┆   ┆             ┆        ┆ i64        ┆ i64        │\n",
            "╞══════╪══════════╪═════════════╪═════════════╪═══╪═════════════╪════════╪════════════╪════════════╡\n",
            "│ 4721 ┆ 3        ┆ 2013-08-29T ┆ Market at   ┆ … ┆ 4           ┆ null   ┆ 286        ┆ 94107      │\n",
            "│      ┆          ┆ 20:27:00Z   ┆ 10th        ┆   ┆             ┆        ┆            ┆            │\n",
            "│ 4812 ┆ 3        ┆ 2013-08-29T ┆ 2nd at      ┆ … ┆ 4           ┆ null   ┆ 286        ┆ 94107      │\n",
            "│      ┆          ┆ 21:30:00Z   ┆ Folsom      ┆   ┆             ┆        ┆            ┆            │\n",
            "│ 4705 ┆ 3        ┆ 2013-08-29T ┆ Golden Gate ┆ … ┆ 4           ┆ null   ┆ 286        ┆ 94107      │\n",
            "│      ┆          ┆ 20:15:00Z   ┆ at Polk     ┆   ┆             ┆        ┆            ┆            │\n",
            "│ 4841 ┆ 3        ┆ 2013-08-29T ┆ University  ┆ … ┆ 4           ┆ null   ┆ 286        ┆ 94107      │\n",
            "│      ┆          ┆ 21:48:00Z   ┆ and Emerson ┆   ┆             ┆        ┆            ┆            │\n",
            "│ 4668 ┆ 4        ┆ 2013-08-29T ┆ San         ┆ … ┆ 4           ┆ null   ┆ 286        ┆ 94107      │\n",
            "│      ┆          ┆ 19:39:00Z   ┆ Francisco   ┆   ┆             ┆        ┆            ┆            │\n",
            "│      ┆          ┆             ┆ Caltrain 2  ┆   ┆             ┆        ┆            ┆            │\n",
            "│      ┆          ┆             ┆ (330 …      ┆   ┆             ┆        ┆            ┆            │\n",
            "└──────┴──────────┴─────────────┴─────────────┴───┴─────────────┴────────┴────────────┴────────────┘\n"
          ]
        }
      ],
      "source": [
        "# Join trips and weather data\n",
        "\n",
        "# Join trips with weather on the date column\n",
        "trips_weather = trips.join(weather, on=\"date\", how=\"inner\")\n",
        "\n",
        "# Optional: check the join worked\n",
        "print(trips_weather.height)  # number of rows\n",
        "print(trips_weather.columns) # list of columns\n",
        "print(trips_weather.head())  # preview first few rows"
      ]
    },
    {
      "cell_type": "markdown",
      "metadata": {
        "id": "jAmIh2v9yU1y"
      },
      "source": [
        "#### Part B: Calculate the average `duration` of trips in poor weather\n",
        "\n",
        "Using the `trips_weather` DataFrame, compute the average trip `duration` for days that had weather `events` (i.e. anytime a day had an event of anything but `null`). Name the column for average `duration`: `avg_duration`. The resulting DataFrame should have one row and be named `avg_bad_weather`.\n",
        "\n",
        "*Insert a code block that shows the computation of the average trip duration for days that had a weather event.*"
      ]
    },
    {
      "cell_type": "code",
      "execution_count": null,
      "metadata": {
        "id": "GfK-KPe2yU1y",
        "colab": {
          "base_uri": "https://localhost:8080/"
        },
        "outputId": "ee43e87d-9011-4bbd-c84b-3de6c83a02ac"
      },
      "outputs": [
        {
          "output_type": "stream",
          "name": "stdout",
          "text": [
            "shape: (1, 1)\n",
            "┌──────────────┐\n",
            "│ avg_duration │\n",
            "│ ---          │\n",
            "│ f64          │\n",
            "╞══════════════╡\n",
            "│ 10.34899     │\n",
            "└──────────────┘\n"
          ]
        }
      ],
      "source": [
        "# Calculate average duration for trips with weather events\n",
        "\n",
        "# Filter for days with a weather event (non-null in the 'events' column)\n",
        "bad_weather_trips = trips_weather.filter(pl.col(\"events\").is_not_null())\n",
        "\n",
        "# Compute the average trip duration\n",
        "avg_bad_weather = bad_weather_trips.select(\n",
        "    pl.col(\"duration\").mean().alias(\"avg_duration\")\n",
        ")\n",
        "\n",
        "# Optional: print the result\n",
        "print(avg_bad_weather)\n"
      ]
    },
    {
      "cell_type": "markdown",
      "metadata": {
        "id": "r1HZVy2qyU1y"
      },
      "source": [
        "# Baseball Dataset\n",
        "\n",
        "## Load Data\n",
        "\n",
        "Load the `Batting.csv`, `People.csv`, and `HallOfFame.csv` datasets into Polars DataFrames.\n",
        "\n",
        "*Insert a code block to load your datasets*"
      ]
    },
    {
      "cell_type": "code",
      "execution_count": null,
      "metadata": {
        "id": "qrZO72DTyU1y"
      },
      "outputs": [],
      "source": [
        "# Load baseball datasets\n",
        "Batting = pl.read_csv(\"https://raw.githubusercontent.com/philhetzel/opan5510-class9/refs/heads/main/data/Batting.csv\", null_values='NA')\n",
        "People = pl.read_csv(\"https://raw.githubusercontent.com/philhetzel/opan5510-class9/refs/heads/main/data/People.csv\", null_values='NA')\n",
        "HallOfFame = pl.read_csv(\"https://raw.githubusercontent.com/philhetzel/opan5510-class9/refs/heads/main/data/HallOfFame.csv\", null_values='NA')\n"
      ]
    },
    {
      "cell_type": "markdown",
      "metadata": {
        "id": "M9wo7SwoyU1y"
      },
      "source": [
        "## Question 2: How many home runs (`HR`) were hit by players born in Florida?\n",
        "\n",
        "#### Part A: Join the `Batting` and `People` DataFrames together\n",
        "\n",
        "In order to answer this question, you'll need to use the `Batting` and `People` DataFrames. The `Batting` DataFrame has hitting statistics for every season that an individual player has played. The `People` DataFrame represents biographical data about every professional baseball player.\n",
        "\n",
        "Join the `People` DataFrame into the `Batting` DataFrame so that we can perform analysis on batting statistics using columns from the `People` DataFrame. Name the new DataFrame `stats_w_bio`.\n",
        "\n",
        "*Insert a code block that joins the `Batting` DataFrame to the `People` DataFrame.*"
      ]
    },
    {
      "cell_type": "code",
      "execution_count": null,
      "metadata": {
        "id": "BOYs3snEyU1y",
        "colab": {
          "base_uri": "https://localhost:8080/"
        },
        "outputId": "1eb310dd-3f28-4b81-d140-2011efa0ccf8"
      },
      "outputs": [
        {
          "output_type": "stream",
          "name": "stdout",
          "text": [
            "shape: (5, 47)\n",
            "┌───────────┬────────┬───────┬────────┬───┬──────────┬───────────┬────────────┬────────────┐\n",
            "│ playerID  ┆ yearID ┆ stint ┆ teamID ┆ … ┆ retroID  ┆ bbrefID   ┆ deathDate  ┆ birthDate  │\n",
            "│ ---       ┆ ---    ┆ ---   ┆ ---    ┆   ┆ ---      ┆ ---       ┆ ---        ┆ ---        │\n",
            "│ str       ┆ i64    ┆ i64   ┆ str    ┆   ┆ str      ┆ str       ┆ str        ┆ str        │\n",
            "╞═══════════╪════════╪═══════╪════════╪═══╪══════════╪═══════════╪════════════╪════════════╡\n",
            "│ abercda01 ┆ 1871   ┆ 1     ┆ TRO    ┆ … ┆ aberd101 ┆ abercda01 ┆ 1939-11-11 ┆ 1850-01-02 │\n",
            "│ addybo01  ┆ 1871   ┆ 1     ┆ RC1    ┆ … ┆ addyb101 ┆ addybo01  ┆ 1910-04-09 ┆ null       │\n",
            "│ allisar01 ┆ 1871   ┆ 1     ┆ CL1    ┆ … ┆ allia101 ┆ allisar01 ┆ 1916-02-25 ┆ 1849-01-29 │\n",
            "│ allisdo01 ┆ 1871   ┆ 1     ┆ WS3    ┆ … ┆ allid101 ┆ allisdo01 ┆ 1916-12-19 ┆ 1846-07-12 │\n",
            "│ ansonca01 ┆ 1871   ┆ 1     ┆ RC1    ┆ … ┆ ansoc101 ┆ ansonca01 ┆ 1922-04-14 ┆ 1852-04-17 │\n",
            "└───────────┴────────┴───────┴────────┴───┴──────────┴───────────┴────────────┴────────────┘\n",
            "['playerID', 'yearID', 'stint', 'teamID', 'lgID', 'G', 'AB', 'R', 'H', 'X2B', 'X3B', 'HR', 'RBI', 'SB', 'CS', 'BB', 'SO', 'IBB', 'HBP', 'SH', 'SF', 'GIDP', 'birthYear', 'birthMonth', 'birthDay', 'birthCountry', 'birthState', 'birthCity', 'deathYear', 'deathMonth', 'deathDay', 'deathCountry', 'deathState', 'deathCity', 'nameFirst', 'nameLast', 'nameGiven', 'weight', 'height', 'bats', 'throws', 'debut', 'finalGame', 'retroID', 'bbrefID', 'deathDate', 'birthDate']\n"
          ]
        }
      ],
      "source": [
        "# Join Batting and People DataFrames\n",
        "\n",
        "# Join People into Batting on playerID\n",
        "stats_w_bio = Batting.join(People, on=\"playerID\", how=\"inner\")\n",
        "\n",
        "# Optional: check the join\n",
        "print(stats_w_bio.head())\n",
        "print(stats_w_bio.columns)"
      ]
    },
    {
      "cell_type": "markdown",
      "metadata": {
        "id": "Pr63NEFcyU1y"
      },
      "source": [
        "#### Part B: Calculate the total number of home runs that were hit by Florida-born players\n",
        "\n",
        "You would like to perform an analysis about how many home runs (`HR`) were hit by players that were born in the `birthState` of Florida (`FL`). Using the new `stats_w_bio` DataFrame that combines batting statistics with biographical information, compute the total number of home runs (`HR`) hit by players who were born (`birthState`) in Florida (`FL`) and name the new column `total_hr`. The DataFrame should have one row and be named `florida_hr`.\n",
        "\n",
        "*Insert a block of code that shows the computation of total home runs hit by players born in Florida. The output of this code block should be a DataFrame.*"
      ]
    },
    {
      "cell_type": "code",
      "execution_count": null,
      "metadata": {
        "id": "bBGsxFDUyU1y",
        "colab": {
          "base_uri": "https://localhost:8080/"
        },
        "outputId": "8e197965-ade5-46d7-bbb2-732a7c86f63a"
      },
      "outputs": [
        {
          "output_type": "stream",
          "name": "stdout",
          "text": [
            "shape: (1, 1)\n",
            "┌──────────┐\n",
            "│ total_hr │\n",
            "│ ---      │\n",
            "│ i64      │\n",
            "╞══════════╡\n",
            "│ 16225    │\n",
            "└──────────┘\n"
          ]
        }
      ],
      "source": [
        "# Calculate total home runs by Florida-born players\n",
        "\n",
        "# Filter for players born in Florida and sum their home runs\n",
        "florida_hr = stats_w_bio.filter(pl.col(\"birthState\") == \"FL\").select(\n",
        "    pl.col(\"HR\").sum().alias(\"total_hr\")\n",
        ")\n",
        "\n",
        "# Optional: print the result\n",
        "print(florida_hr)\n"
      ]
    },
    {
      "cell_type": "markdown",
      "metadata": {
        "id": "d5v5qjkayU1y"
      },
      "source": [
        "## Question 3: What are the average number of career Hits (`H`) for Hall of Fame baseball players?\n",
        "\n",
        "#### Part A: Clean the `HallOfFame` DataFrame\n",
        "\n",
        "You would like to perform an analysis on the batting statistics of Hall of Fame baseball players. In order to answer this question, you'll need to use the `Batting` and `HallOfFame` DataFrames.\n",
        "\n",
        "The first thing that you have to do to perform this analysis is to join the `HallOfFame` data into the `Batting` data to understand which players are \"Hall of Famers\". To join the data correctly, we have to ensure that the `playerID` field is unique in `HallOfFame`. Not every player in the `HallOfFame` DataFrame is a Hall of Famer; their `inducted` field must have the value of `Y` and their `category` field should have the value of `Player`. Name the new DataFrame `hall_inducted`.\n",
        "\n",
        "*Insert a code block to transform the `HallOfFame` DataFrame to ensure that `playerID` is unique.*"
      ]
    },
    {
      "cell_type": "code",
      "execution_count": null,
      "metadata": {
        "id": "P0lc9qLPyU1y",
        "colab": {
          "base_uri": "https://localhost:8080/"
        },
        "outputId": "34480c74-a428-4e0e-963a-89ec4808fcdb"
      },
      "outputs": [
        {
          "output_type": "stream",
          "name": "stdout",
          "text": [
            "shape: (5, 1)\n",
            "┌───────────┐\n",
            "│ playerID  │\n",
            "│ ---       │\n",
            "│ str       │\n",
            "╞═══════════╡\n",
            "│ dimagjo01 │\n",
            "│ wallabo01 │\n",
            "│ wheatza01 │\n",
            "│ martipe02 │\n",
            "│ orourji01 │\n",
            "└───────────┘\n",
            "270\n"
          ]
        }
      ],
      "source": [
        "# Clean HallOfFame DataFrame\n",
        "\n",
        "# Keep only Hall of Fame players who were inducted and are in the Player category\n",
        "hall_inducted = HallOfFame.filter(\n",
        "    (pl.col(\"inducted\") == \"Y\") & (pl.col(\"category\") == \"Player\")\n",
        ").select(\n",
        "    pl.col(\"playerID\").unique()\n",
        ")\n",
        "\n",
        "# Optional: check the result\n",
        "print(hall_inducted.head())\n",
        "print(hall_inducted.height)"
      ]
    },
    {
      "cell_type": "markdown",
      "metadata": {
        "id": "A6z9HFdjyU1y"
      },
      "source": [
        "#### Part B: Find the average number of career hits across Hall of Fame players\n",
        "\n",
        "Join the `hall_inducted` data into the `Batting` data by `playerID`. Aggregate the data to compute the average total hits (`H`) across all Hall of Fame players. To do this, you will first need to calculate the total number of hits for each player and then calculate the average hits across all players. Call the new column `average_hits`. The resulting DataFrame should have one row and be named `hof_hits`.\n",
        "\n",
        "*Insert a code block that joins the `Batting` and the `hall_inducted` data together and then calculates the average number of career hits (`H`) across all Hall of Fame players. The output of this code block should be a DataFrame.*"
      ]
    },
    {
      "cell_type": "code",
      "execution_count": null,
      "metadata": {
        "id": "JzWY4cVbyU1y",
        "colab": {
          "base_uri": "https://localhost:8080/"
        },
        "outputId": "1ed7b5ca-a5cb-488b-9c7d-ff1d2ac749ac"
      },
      "outputs": [
        {
          "output_type": "stream",
          "name": "stdout",
          "text": [
            "shape: (5, 1)\n",
            "┌───────────┐\n",
            "│ playerID  │\n",
            "│ ---       │\n",
            "│ str       │\n",
            "╞═══════════╡\n",
            "│ grimebu01 │\n",
            "│ bottoji01 │\n",
            "│ bendech01 │\n",
            "│ grantfr99 │\n",
            "│ wanerll01 │\n",
            "└───────────┘\n",
            "270\n"
          ]
        }
      ],
      "source": [
        "# Calculate average career hits for Hall of Fame players\n",
        "\n",
        "# Keep only Hall of Fame players who were inducted and are in the Player category\n",
        "hall_inducted = HallOfFame.filter(\n",
        "    (pl.col(\"inducted\") == \"Y\") & (pl.col(\"category\") == \"Player\")\n",
        ").select(\n",
        "    pl.col(\"playerID\").unique()\n",
        ")\n",
        "\n",
        "# Optional: check the result\n",
        "print(hall_inducted.head())\n",
        "print(hall_inducted.height)"
      ]
    }
  ],
  "metadata": {
    "kernelspec": {
      "display_name": "Python 3",
      "language": "python",
      "name": "python3"
    },
    "language_info": {
      "codemirror_mode": {
        "name": "ipython",
        "version": 3
      },
      "file_extension": ".py",
      "mimetype": "text/x-python",
      "name": "python",
      "nbconvert_exporter": "python",
      "pygments_lexer": "ipython3",
      "version": "3.12.0"
    },
    "colab": {
      "provenance": []
    }
  },
  "nbformat": 4,
  "nbformat_minor": 0
}